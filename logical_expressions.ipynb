{
 "cells": [
  {
   "cell_type": "code",
   "execution_count": null,
   "id": "1a2aaf69",
   "metadata": {},
   "outputs": [
    {
     "name": "stdout",
     "output_type": "stream",
     "text": [
      "Is your number positive?\n",
      "No\n"
     ]
    }
   ],
   "source": [
    "a = int(input(\"Enter a number: \"))\n",
    "print(\"Is your number positive?\")\n",
    "\n",
    "if a > 0 :\n",
    "    print(\"Yes\")\n",
    "elif a == 0:\n",
    "    print(\"Your number is zero\")\n",
    "else:\n",
    "    print(\"No\")"
   ]
  },
  {
   "cell_type": "code",
   "execution_count": null,
   "id": "f8504806",
   "metadata": {},
   "outputs": [
    {
     "name": "stdout",
     "output_type": "stream",
     "text": [
      "Is your number odd ?\n",
      "Your number is zero\n"
     ]
    }
   ],
   "source": [
    "a = int(input(\"Enter a number: \"))\n",
    "print(\"Is your number odd ?\")\n",
    "\n",
    "if a%2 != 0 :\n",
    "    print(\"Yes\")\n",
    "elif a == 0:\n",
    "    print(\"Your number is zero\")\n",
    "else:\n",
    "    print(\"No\")"
   ]
  },
  {
   "cell_type": "code",
   "execution_count": null,
   "id": "285a8bd8",
   "metadata": {},
   "outputs": [
    {
     "name": "stdout",
     "output_type": "stream",
     "text": [
      "Is your number even ?\n",
      "No\n"
     ]
    }
   ],
   "source": [
    "a = int(input(\"Enter a number: \"))\n",
    "print(\"Is your number even ?\")\n",
    "\n",
    "if a%2 == 0 :\n",
    "    print(\"Yes\")\n",
    "elif a == 0:\n",
    "    print(\"Your number is zero\")\n",
    "else:\n",
    "    print(\"No\")"
   ]
  },
  {
   "cell_type": "code",
   "execution_count": null,
   "id": "d056b926",
   "metadata": {},
   "outputs": [
    {
     "name": "stdout",
     "output_type": "stream",
     "text": [
      "Справедливы неравенства A > 2 и B ≤ 3\n",
      "No\n"
     ]
    }
   ],
   "source": [
    "# 4 \n",
    "a = int(input(\"Enter a first number: \"))\n",
    "b = int(input(\"Enter a second number: \"))\n",
    "print(\"Справедливы неравенства A > 2 и B ≤ 3\")\n",
    "\n",
    "if (a > 2) and (b <= 3):\n",
    "    print(\"Yes\")\n",
    "else:\n",
    "    print(\"No\")"
   ]
  },
  {
   "cell_type": "code",
   "execution_count": 15,
   "id": "92cf6514",
   "metadata": {},
   "outputs": [
    {
     "name": "stdout",
     "output_type": "stream",
     "text": [
      "Справедливы неравенства A ≥ 0 или B < −2\n",
      "Yes\n"
     ]
    }
   ],
   "source": [
    "# 5 \n",
    "a = int(input(\"Enter a first number: \"))\n",
    "b = int(input(\"Enter a second number: \"))\n",
    "print(\"Справедливы неравенства A ≥ 0 или B < −2\")\n",
    "\n",
    "if (a >= 0) and (b < -2):\n",
    "    print(\"Yes\")\n",
    "else:\n",
    "    print(\"No\")"
   ]
  },
  {
   "cell_type": "code",
   "execution_count": 17,
   "id": "5a932e89",
   "metadata": {},
   "outputs": [
    {
     "name": "stdout",
     "output_type": "stream",
     "text": [
      "Справедливы неравенства неравенство A < B < C\n",
      "No\n"
     ]
    }
   ],
   "source": [
    "# 6\n",
    "a = int(input(\"Enter a first number: \"))\n",
    "b = int(input(\"Enter a second number: \"))\n",
    "c = int(input(\"Enter a third number\"))\n",
    "print(\"Справедливы неравенства неравенство A < B < C\")\n",
    "\n",
    "if a < b < c:\n",
    "    print(\"Yes\")\n",
    "else:\n",
    "    print(\"No\")"
   ]
  },
  {
   "cell_type": "code",
   "execution_count": null,
   "id": "cb7f4d45",
   "metadata": {},
   "outputs": [],
   "source": [
    "# 7 \n",
    "a = int(input(\"Enter a first number: \"))\n",
    "b = int(input(\"Enter a second number: \"))\n",
    "c = int(input(\"Enter a third number\"))\n",
    "print(\"Число B находится между числами A и C\")\n",
    "\n",
    "if a < b < c:\n",
    "    print(\"Yes\")\n",
    "else:\n",
    "    print(\"No\")"
   ]
  },
  {
   "cell_type": "code",
   "execution_count": 19,
   "id": "6edfc712",
   "metadata": {},
   "outputs": [
    {
     "name": "stdout",
     "output_type": "stream",
     "text": [
      "Каждое из чисел A и B нечетное\n",
      "No\n"
     ]
    }
   ],
   "source": [
    "# 8 \n",
    "a = int(input(\"Enter a first number: \"))\n",
    "b = int(input(\"Enter a second number: \"))\n",
    "print(\"Каждое из чисел A и B нечетное\")\n",
    "\n",
    "if (a % 2 != 0) and (b % 2 != 0):\n",
    "    print(\"Yes\")\n",
    "else:\n",
    "    print(\"No\")"
   ]
  },
  {
   "cell_type": "code",
   "execution_count": null,
   "id": "b0061d94",
   "metadata": {},
   "outputs": [],
   "source": [
    "# 9\n",
    "a = int(input(\"Enter a first number: \"))\n",
    "b = int(input(\"Enter a second number: \"))\n",
    "print(\"Хотя бы одно из чисел A и B нечетное\")\n",
    "\n",
    "if (a % 2 != 0) or (b % 2 != 0):\n",
    "    print(\"Yes\")\n",
    "else:\n",
    "    print(\"No\")"
   ]
  },
  {
   "cell_type": "code",
   "execution_count": null,
   "id": "5cc21118",
   "metadata": {},
   "outputs": [],
   "source": [
    "# 10 \n",
    "a = int(input(\"Enter a first number: \"))\n",
    "b = int(input(\"Enter a second number: \"))\n",
    "print(\"Ровно одно из чисел A и B нечетное\")\n",
    "\n",
    "if (a % 2 != 0) and (b % 2 != 0): \n",
    "    print(\"NO\")\n",
    "elif (a % 2 != 0) or (b % 2 != 0):\n",
    "    print(\"Yes\")\n",
    "else:\n",
    "    print(\"No\")"
   ]
  },
  {
   "cell_type": "code",
   "execution_count": 21,
   "id": "16f46f49",
   "metadata": {},
   "outputs": [
    {
     "name": "stdout",
     "output_type": "stream",
     "text": [
      "Числа A и B имеют одинаковую четность\n",
      "Yes\n"
     ]
    }
   ],
   "source": [
    "# 11\n",
    "a = int(input(\"Enter a first number: \"))\n",
    "b = int(input(\"Enter a second number: \"))\n",
    "print(\"Числа A и B имеют одинаковую четность\")\n",
    "\n",
    "if ((a % 2 != 0) and (b % 2 != 0)) or ((a % 2 == 0) and (b % 2 == 0)): \n",
    "    print(\"Yes\")\n",
    "else:\n",
    "    print(\"No\")"
   ]
  }
 ],
 "metadata": {
  "kernelspec": {
   "display_name": "Python 3",
   "language": "python",
   "name": "python3"
  },
  "language_info": {
   "codemirror_mode": {
    "name": "ipython",
    "version": 3
   },
   "file_extension": ".py",
   "mimetype": "text/x-python",
   "name": "python",
   "nbconvert_exporter": "python",
   "pygments_lexer": "ipython3",
   "version": "3.14.0"
  }
 },
 "nbformat": 4,
 "nbformat_minor": 5
}

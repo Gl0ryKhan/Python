{
 "cells": [
  {
   "cell_type": "code",
   "execution_count": null,
   "id": "61cf2853",
   "metadata": {},
   "outputs": [
    {
     "name": "stdout",
     "output_type": "stream",
     "text": [
      "Hello, Erbolot ! Your score is 88.\n"
     ]
    }
   ],
   "source": [
    "# seminar 3 from tak 5 \n",
    "\n",
    "name = input(\"Enter a name: \").capitalize()\n",
    "score = int(input(\"Enter your score\"))\n",
    "\n",
    "print(f\"Hello, {name} ! Your score is {score }.\" )"
   ]
  },
  {
   "cell_type": "code",
   "execution_count": null,
   "id": "93a4e7ff",
   "metadata": {},
   "outputs": [],
   "source": [
    "# task 6\n",
    "\n",
    "name = input(\"Enter a name: \").capitalize()\n",
    "score = int(input(\"Write your age\"))\n",
    "\n",
    "print(f\"My name is {name} and I am {score }.\" )"
   ]
  },
  {
   "cell_type": "code",
   "execution_count": 20,
   "id": "f9106153",
   "metadata": {},
   "outputs": [
    {
     "name": "stdout",
     "output_type": "stream",
     "text": [
      "p y py asy tho ython i ython is ea pto ses yhni ay 14\n"
     ]
    }
   ],
   "source": [
    "# task 7\n",
    "my_str = \"python is easy\"\n",
    "a = my_str[0:1]\n",
    "z = my_str[-1:] \n",
    "b = my_str[0:2]\n",
    "x = my_str[-3:]\n",
    "c = my_str[2:5]\n",
    "d = my_str[1:8]\n",
    "e = my_str[1:-2]\n",
    "f = my_str[0::2]\n",
    "g = my_str[1::2]\n",
    "m = len(my_str)\n",
    "h = my_str[:]\n",
    "print(a, z, b, x, c, d, e, f, g, m)\n"
   ]
  }
 ],
 "metadata": {
  "kernelspec": {
   "display_name": "Python 3",
   "language": "python",
   "name": "python3"
  },
  "language_info": {
   "codemirror_mode": {
    "name": "ipython",
    "version": 3
   },
   "file_extension": ".py",
   "mimetype": "text/x-python",
   "name": "python",
   "nbconvert_exporter": "python",
   "pygments_lexer": "ipython3",
   "version": "3.14.0"
  }
 },
 "nbformat": 4,
 "nbformat_minor": 5
}

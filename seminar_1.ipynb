{
 "cells": [
  {
   "cell_type": "code",
   "execution_count": 1,
   "id": "f5ba2e8a",
   "metadata": {},
   "outputs": [
    {
     "data": {
      "text/plain": [
       "4"
      ]
     },
     "execution_count": 1,
     "metadata": {},
     "output_type": "execute_result"
    }
   ],
   "source": [
    "a = 2\n",
    "b = 3 \n",
    "c = 1 \n",
    "a*(b-c)"
   ]
  },
  {
   "cell_type": "code",
   "execution_count": 2,
   "id": "cfdad4de",
   "metadata": {},
   "outputs": [
    {
     "data": {
      "text/plain": [
       "24"
      ]
     },
     "execution_count": 2,
     "metadata": {},
     "output_type": "execute_result"
    }
   ],
   "source": [
    "a = 5\n",
    "b = 1\n",
    "(a-b)*(a+b)"
   ]
  },
  {
   "cell_type": "code",
   "execution_count": 6,
   "id": "957e4d8d",
   "metadata": {},
   "outputs": [
    {
     "data": {
      "text/plain": [
       "0.9"
      ]
     },
     "execution_count": 6,
     "metadata": {},
     "output_type": "execute_result"
    }
   ],
   "source": [
    "a = 0.3\n",
    "b = 4 \n",
    "c = 1\n",
    "round(a*(b-c),3)"
   ]
  },
  {
   "cell_type": "code",
   "execution_count": null,
   "id": "cfa61929",
   "metadata": {},
   "outputs": [
    {
     "data": {
      "text/plain": [
       "30.0"
      ]
     },
     "execution_count": 7,
     "metadata": {},
     "output_type": "execute_result"
    }
   ],
   "source": [
    "a = 91 \n",
    "b = 1 \n",
    "c = 2 \n",
    "(a-b)/(c+b)"
   ]
  },
  {
   "cell_type": "code",
   "execution_count": 11,
   "id": "e335880d",
   "metadata": {},
   "outputs": [
    {
     "data": {
      "text/plain": [
       "2.58"
      ]
     },
     "execution_count": 11,
     "metadata": {},
     "output_type": "execute_result"
    }
   ],
   "source": [
    "import math as mt\n",
    "a = 5\n",
    "b = 4 \n",
    "c = 3\n",
    "round(mt.sqrt(a*b/c),2)"
   ]
  },
  {
   "cell_type": "code",
   "execution_count": 12,
   "id": "144e165d",
   "metadata": {},
   "outputs": [
    {
     "data": {
      "text/plain": [
       "0.34"
      ]
     },
     "execution_count": 12,
     "metadata": {},
     "output_type": "execute_result"
    }
   ],
   "source": [
    "a = 1/3\n",
    "b = 5\n",
    "c = 0.2\n",
    "d = 0.001\n",
    "e = 91\n",
    "round(a + b * ((c-d)/e),2)"
   ]
  },
  {
   "cell_type": "code",
   "execution_count": 13,
   "id": "feca8b1e",
   "metadata": {},
   "outputs": [
    {
     "data": {
      "text/plain": [
       "9909.7"
      ]
     },
     "execution_count": 13,
     "metadata": {},
     "output_type": "execute_result"
    }
   ],
   "source": [
    "a = 40 \n",
    "b = 4.25\n",
    "c = 7.08\n",
    "d = 6.768\n",
    "e = 0.75\n",
    "f = 2050\n",
    "round((a-(b*c + d*e))*f,2)"
   ]
  },
  {
   "cell_type": "code",
   "execution_count": 20,
   "id": "36c42bc3",
   "metadata": {},
   "outputs": [
    {
     "name": "stdout",
     "output_type": "stream",
     "text": [
      "<class 'int'>\n",
      "<class 'float'>\n"
     ]
    }
   ],
   "source": [
    "x = 24 \n",
    "y = 31.4\n",
    "print(type(x))\n",
    "print(type(y))"
   ]
  },
  {
   "cell_type": "code",
   "execution_count": 21,
   "id": "f7a25095",
   "metadata": {},
   "outputs": [
    {
     "name": "stdout",
     "output_type": "stream",
     "text": [
      "55.4\n"
     ]
    }
   ],
   "source": [
    "x = 24 \n",
    "y = -31.4\n",
    "diff = abs(x) + abs(y)\n",
    "print(diff)"
   ]
  },
  {
   "cell_type": "code",
   "execution_count": null,
   "id": "10dc9c3f",
   "metadata": {},
   "outputs": [
    {
     "name": "stdout",
     "output_type": "stream",
     "text": [
      "11\n",
      "10 килограмм картошки не хватает для полного мешка\n"
     ]
    }
   ],
   "source": [
    "x = 290 \n",
    "y = 25 \n",
    "c = x // y \n",
    "print (c, \"полных мешков\")\n",
    "d = y - (x%y)\n",
    "print (d, \"килограмм картошки не хватает для полного мешка\")"
   ]
  },
  {
   "cell_type": "code",
   "execution_count": 30,
   "id": "6b7d608c",
   "metadata": {},
   "outputs": [
    {
     "name": "stdout",
     "output_type": "stream",
     "text": [
      "70.4\n"
     ]
    }
   ],
   "source": [
    "old_price = int (input(\"Write old price: \"))\n",
    "new_price = int (input(\"Write new price: \"))\n",
    "res = round(new_price*100/old_price, 1)\n",
    "print(res)"
   ]
  },
  {
   "cell_type": "code",
   "execution_count": 36,
   "id": "853bff79",
   "metadata": {},
   "outputs": [
    {
     "name": "stdout",
     "output_type": "stream",
     "text": [
      "2.345\n"
     ]
    }
   ],
   "source": [
    "x = 2\n",
    "y = mt.pow(mt.e, 1 / (1+mt.cos(x)*mt.cos(x)))\n",
    "print(round(y,3))"
   ]
  },
  {
   "cell_type": "code",
   "execution_count": 48,
   "id": "ce3efe81",
   "metadata": {},
   "outputs": [
    {
     "name": "stdout",
     "output_type": "stream",
     "text": [
      "33.333333333333336\n",
      "Для выполнения заказа необходимо задействовать 34 поста\n"
     ]
    }
   ],
   "source": [
    "k = 1500\n",
    "t = 45\n",
    "print(k/t)\n",
    "res = mt.ceil(k / t)\n",
    "print(f\"Для выполнения заказа необходимо задействовать {res} поста\")"
   ]
  },
  {
   "cell_type": "code",
   "execution_count": 55,
   "id": "fc07aedc",
   "metadata": {},
   "outputs": [
    {
     "name": "stdout",
     "output_type": "stream",
     "text": [
      "0.6 синус наименьшего острого угла треугольника\n",
      "36.87 значение меньшего острого угла в градусах\n"
     ]
    }
   ],
   "source": [
    "katet_1 = int(input(\"Введите длину 1-го катета: \"))\n",
    "katet_2 = int(input(\"Введите длину 2-го катета: \"))\n",
    "gip = int(input(\"Введите длину гипотенузы: \"))\n",
    "\n",
    "sinus_1 = katet_1/gip\n",
    "sinus_2 = katet_2/gip\n",
    "min_sinus = min(sinus_1,sinus_2)\n",
    "\n",
    "print(min_sinus, \"синус наименьшего острого угла треугольника\")\n",
    "\n",
    "# 10\n",
    "angle = mt.degrees(mt.asin(min_sinus))\n",
    "print(round(angle,2), \"значение меньшего острого угла в градусах\") "
   ]
  }
 ],
 "metadata": {
  "kernelspec": {
   "display_name": "Python 3",
   "language": "python",
   "name": "python3"
  },
  "language_info": {
   "codemirror_mode": {
    "name": "ipython",
    "version": 3
   },
   "file_extension": ".py",
   "mimetype": "text/x-python",
   "name": "python",
   "nbconvert_exporter": "python",
   "pygments_lexer": "ipython3",
   "version": "3.14.0"
  }
 },
 "nbformat": 4,
 "nbformat_minor": 5
}

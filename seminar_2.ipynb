{
 "cells": [
  {
   "cell_type": "code",
   "execution_count": 5,
   "id": "725fb032",
   "metadata": {},
   "outputs": [
    {
     "name": "stdout",
     "output_type": "stream",
     "text": [
      "Your number is bigger than 5 \n"
     ]
    }
   ],
   "source": [
    "# 1\n",
    "num1 = int(input(\"Enter a number: \"))\n",
    "if num1 > 5: \n",
    "    print (\"Your number is bigger than 5 \")\n",
    "elif num1 == 5: \n",
    "    print (\"Your number is 5 \")\n",
    "else:\n",
    "    print (\"Your nukber is less than 5 \")"
   ]
  },
  {
   "cell_type": "code",
   "execution_count": 22,
   "id": "81c1fd23",
   "metadata": {},
   "outputs": [
    {
     "name": "stdout",
     "output_type": "stream",
     "text": [
      "IS your number even ?\n",
      "True\n"
     ]
    }
   ],
   "source": [
    "# 2\n",
    "num1 = int(input(\"Enter a number: \"))\n",
    "print (\"Is your number even ?\")\n",
    "if num1 % 2 == 0 :\n",
    "    print (\"True\")\n",
    "else: \n",
    "    print (\"False\")\n",
    "  "
   ]
  },
  {
   "cell_type": "code",
   "execution_count": 21,
   "id": "9ed40a86",
   "metadata": {},
   "outputs": [
    {
     "name": "stdout",
     "output_type": "stream",
     "text": [
      "Is your first number bigger than seond number*2\n",
      "True\n"
     ]
    }
   ],
   "source": [
    "# 3\n",
    "a = int(input(\"Enter a first number: \"))\n",
    "b = int(input(\"Enter a second number: \"))\n",
    "\n",
    "print (\"Is your first number bigger than seond number*2\")\n",
    "if a > b*2 :\n",
    "    print (\"True\")\n",
    "else:\n",
    "    print(\"False\")"
   ]
  },
  {
   "cell_type": "code",
   "execution_count": 20,
   "id": "432796bb",
   "metadata": {},
   "outputs": [
    {
     "name": "stdout",
     "output_type": "stream",
     "text": [
      "Your number is divided by 3 without leaving? \n",
      "Yes\n"
     ]
    }
   ],
   "source": [
    "# 4 \n",
    "num1 = int(input(\"Enter a number: \"))\n",
    "print (\"Your number is divided by 3 without leaving? \")\n",
    "\n",
    "if num1 % 3 == 0 :\n",
    "    print (\"Yes\")\n",
    "else : \n",
    "    print (\"No\")\n"
   ]
  },
  {
   "cell_type": "code",
   "execution_count": 26,
   "id": "63b75252",
   "metadata": {},
   "outputs": [
    {
     "name": "stdout",
     "output_type": "stream",
     "text": [
      "Is your number even or odd ? \n",
      "Yes, it is 4\n"
     ]
    }
   ],
   "source": [
    "# 5\n",
    "num1 = int(input(\"Enter a number\"))\n",
    "print (\"Is your number even or odd ? \")\n",
    "\n",
    "if num1 % 2 == 0 :\n",
    "    print (\"Yes, it is\", num1)\n",
    "else:\n",
    "    print (\"No, your numver + 1 = \", num1 + 1)"
   ]
  },
  {
   "cell_type": "code",
   "execution_count": 29,
   "id": "4054e6d9",
   "metadata": {},
   "outputs": [
    {
     "name": "stdout",
     "output_type": "stream",
     "text": [
      "Your number equals to x. Is your number\n",
      "          x > 3\n",
      "          x <= 8 ? \n",
      "No\n"
     ]
    }
   ],
   "source": [
    "# 6 \n",
    "x = int(input(\"Enter your number: \"))\n",
    "print ('''Your number equals to x. Is your number\n",
    "          x > 3  and \n",
    "          x <= 8  ? ''')\n",
    "\n",
    "if x > 3 and x <= 8 :\n",
    "    print(\"Yes\")\n",
    "else : \n",
    "    print(\"No\")"
   ]
  },
  {
   "cell_type": "code",
   "execution_count": 38,
   "id": "59e12d31",
   "metadata": {},
   "outputs": [
    {
     "name": "stdout",
     "output_type": "stream",
     "text": [
      "Your number equals to x. Is your number\n",
      "          x >= 5\n",
      "          x < 15\n",
      "          x != 10 ? \n",
      "No\n"
     ]
    }
   ],
   "source": [
    "# 7 \n",
    "x = int(input(\"Enter your number: \"))\n",
    "print ('''Your number equals to x. Is your number\n",
    "          x >= 5 and \n",
    "          x < 15 and\n",
    "          x != 10 ? ''')\n",
    "\n",
    "if x >= 5 and x < 15 and x != 10  :\n",
    "    print(\"Yes\")\n",
    "else : \n",
    "    print(\"No\")"
   ]
  },
  {
   "cell_type": "code",
   "execution_count": 43,
   "id": "0fccfe32",
   "metadata": {},
   "outputs": [
    {
     "name": "stdout",
     "output_type": "stream",
     "text": [
      "Your number equals to x. Is your number\n",
      "          x <= 5  or\n",
      "          x > 10  ? \n",
      "Yes\n"
     ]
    }
   ],
   "source": [
    "# 8 \n",
    "x = int(input(\"Enter your number: \"))\n",
    "print ('''Your number equals to x. Is your number\n",
    "          x <= 5  or\n",
    "          x > 10  ? ''')\n",
    "\n",
    "if x <= 5 or x > 10 :\n",
    "    print(\"Yes\")\n",
    "else : \n",
    "    print(\"No\")"
   ]
  },
  {
   "cell_type": "code",
   "execution_count": 47,
   "id": "010aa3d2",
   "metadata": {},
   "outputs": [
    {
     "name": "stdout",
     "output_type": "stream",
     "text": [
      "Your number equals to x. Is your number\n",
      "          x > 2  and x <= 6 or\n",
      "          x > 10  ? \n",
      "Yes\n"
     ]
    }
   ],
   "source": [
    "# 9 \n",
    "x = int(input(\"Enter your number: \"))\n",
    "print ('''Your number equals to x. Is your number\n",
    "          x > 2  and x <= 6 or\n",
    "          x > 10  ? ''')\n",
    "\n",
    "if x > 2  and x <= 6 or x > 10 :\n",
    "    print(\"Yes\")\n",
    "else : \n",
    "    print(\"No\")"
   ]
  },
  {
   "cell_type": "code",
   "execution_count": 57,
   "id": "0e27b72d",
   "metadata": {},
   "outputs": [
    {
     "name": "stdout",
     "output_type": "stream",
     "text": [
      "Your number equals to x. Is your number\n",
      "          x < 4  or x > 10 and\n",
      "          x <=2  or x >= 6 ? \n",
      "Yes\n"
     ]
    }
   ],
   "source": [
    "# 10 \n",
    "x = int(input(\"Enter your number: \"))\n",
    "print ('''Your number equals to x. Is your number\n",
    "          x < 4  or x > 10 and\n",
    "          x <=2  or x >= 6 ? ''')\n",
    "\n",
    "if (x < 4  or x > 10) and (x <=2  or x >= 6) :\n",
    "    print(\"Yes\")\n",
    "else : \n",
    "    print(\"No\")"
   ]
  },
  {
   "cell_type": "code",
   "execution_count": 58,
   "id": "7ab38317",
   "metadata": {},
   "outputs": [
    {
     "name": "stdout",
     "output_type": "stream",
     "text": [
      "Your number equals to x. Is your number\n",
      "          x <= 3  or  \n",
      "          x  > 5 ? \n",
      "Yes\n"
     ]
    }
   ],
   "source": [
    "# 11\n",
    "x = int(input(\"Enter your number: \"))\n",
    "print ('''Your number equals to x. Is your number\n",
    "          x <= 3  or  \n",
    "          x  > 5 ? ''')\n",
    "\n",
    "if x <= 3  or x  > 5 :\n",
    "    print(\"Yes\")\n",
    "else : \n",
    "    print(\"No\")\n"
   ]
  },
  {
   "cell_type": "code",
   "execution_count": null,
   "id": "927deccc",
   "metadata": {},
   "outputs": [],
   "source": [
    "# 12\n",
    "x = int(input(\"Enter your number: \"))\n",
    "print ('''Your number equals to x. Is your number\n",
    "          (-3 < x <= 6 or x >= 4)   \n",
    "          (-2 < x <= 3 or x >  5) \n",
    "          ( 0 < x <  4 or 6 <= x < 10) ? ''')\n",
    "\n",
    "if (-3 < x <= 6 or x >= 4) or (-2 < x <= 3 or x >  5) or ( 0 < x <  4 or 6 <= x < 10) :\n",
    "    print(\"Yes\")\n",
    "else : \n",
    "    print(\"No\")"
   ]
  },
  {
   "cell_type": "code",
   "execution_count": 62,
   "id": "24132942",
   "metadata": {},
   "outputs": [
    {
     "name": "stdout",
     "output_type": "stream",
     "text": [
      "Контролируемый спуск невозможен\n"
     ]
    }
   ],
   "source": [
    "# 13 \n",
    "angle = int(input(\"Введите значение угла входа: \"))\n",
    "\n",
    "if angle >= 40 and angle <= 45 :\n",
    "    print (\"Параметры оптимальны\")\n",
    "elif angle < 40 :\n",
    "    print (\"Корабль разрушится в атмосфере\")\n",
    "else :\n",
    "    print (\"Контролируемый спуск невозможен\")"
   ]
  },
  {
   "cell_type": "code",
   "execution_count": 66,
   "id": "3c6dc760",
   "metadata": {},
   "outputs": [
    {
     "name": "stdout",
     "output_type": "stream",
     "text": [
      "On line\n"
     ]
    }
   ],
   "source": [
    "# 14\n",
    "x = int(input(\"Enter the value of x: \"))\n",
    "y = int(input(\"Enter the value of y: \"))\n",
    "line = 0.5 * x + 4\n",
    "\n",
    "if y > line : \n",
    "    print (\"Higher\")\n",
    "elif y == line:\n",
    "    print (\"On line\")\n",
    "else:\n",
    "    print(\"Below\")"
   ]
  },
  {
   "cell_type": "code",
   "execution_count": 73,
   "id": "75dd26a8",
   "metadata": {},
   "outputs": [
    {
     "name": "stdout",
     "output_type": "stream",
     "text": [
      "Если квадратный корень числа меньше самого числа в 3 раза то выведите сообщение 'ок', если нет то 'no' \n",
      "OK\n"
     ]
    }
   ],
   "source": [
    "# 16 \n",
    "num1 = int(input(\"Enter a number: \"))\n",
    "print (\"Если квадратный корень числа меньше самого числа в 3 раза то выведите сообщение 'ок', если нет то 'no' \")\n",
    "\n",
    "import math as mt\n",
    "if mt.sqrt(num1)*3 < num1 :\n",
    "    print(\"OK\")\n",
    "else:\n",
    "    print(\"NO\")\n"
   ]
  },
  {
   "cell_type": "code",
   "execution_count": 77,
   "id": "8b8d7738",
   "metadata": {},
   "outputs": [
    {
     "name": "stdout",
     "output_type": "stream",
     "text": [
      "Если их сумма и разница дают положительно число, то выведите \"++\". \n",
      "Если их сумма дает положительно число, а разница отрицательное, то выведите \"+-\". \n",
      "Если их сумма дает отрицательное число, а разница положительно то выведите \"-+\". \n",
      "Если их сумма и разница дают отрицательное число, то выведите \"--\".\n",
      "00\n"
     ]
    }
   ],
   "source": [
    "# 17\n",
    "num1 = int(input(\"Enter a first number: \"))\n",
    "num2 = int(input(\"Enter a second number: \"))\n",
    "print('''Если их сумма и разница дают положительно число, то выведите \"++\". \n",
    "Если их сумма дает положительно число, а разница отрицательное, то выведите \"+-\". \n",
    "Если их сумма дает отрицательное число, а разница положительно то выведите \"-+\". \n",
    "Если их сумма и разница дают отрицательное число, то выведите \"--\".''')\n",
    "\n",
    "if num1 + num2 > 0 and num1 - num2 > 0 :\n",
    "    print(\"++\")\n",
    "elif num1 + num2 > 0 and num1 - num2 < 0:\n",
    "    print(\"+-\")\n",
    "elif num1 + num2 < 0 and num1 - num2 > 0:\n",
    "    print(\"-+\")\n",
    "elif num1 + num2 < 0 and num1 - num2 < 0:\n",
    "    print(\"--\")\n",
    "else:\n",
    "    print(\"00\")"
   ]
  },
  {
   "cell_type": "code",
   "execution_count": 80,
   "id": "d48a7ef8",
   "metadata": {},
   "outputs": [
    {
     "name": "stdout",
     "output_type": "stream",
     "text": [
      "x_1 =  -2.0\n",
      "x_2 =  0.0\n"
     ]
    }
   ],
   "source": [
    "# 18\n",
    "a = int(input(\"Enter a first number: \"))\n",
    "b = int(input(\"Enter a second number: \"))\n",
    "c = int(input(\"Enter a third number: \"))\n",
    "\n",
    "d = b**2 - 4*a*c \n",
    "\n",
    "if d < 0 :\n",
    "    print(\"Complex\")\n",
    "elif d == 0 :\n",
    "    print(\"x = \", -b / (2*a))\n",
    "else:\n",
    "    print(\"x_1 = \", (-b - mt.sqrt(d))/(2*a) )\n",
    "    print(\"x_2 = \", (-b + mt.sqrt(d))/(2*a) ) \n"
   ]
  },
  {
   "cell_type": "code",
   "execution_count": 81,
   "id": "93903e5c",
   "metadata": {},
   "outputs": [
    {
     "name": "stdout",
     "output_type": "stream",
     "text": [
      "Это треугольник\n"
     ]
    }
   ],
   "source": [
    "# 19\n",
    "a = int(input(\"Enter a first number: \"))\n",
    "b = int(input(\"Enter a second number: \"))\n",
    "c = int(input(\"Enter a third number: \"))\n",
    "\n",
    "k = a + b > c\n",
    "k = a + c > b\n",
    "k = b + c > a\n",
    "\n",
    "if k == True :\n",
    "    print(\"Это треугольник\")\n",
    "else: \n",
    "    print(\"Это не треугольник\")"
   ]
  },
  {
   "cell_type": "code",
   "execution_count": 85,
   "id": "0fbcb669",
   "metadata": {},
   "outputs": [
    {
     "name": "stdout",
     "output_type": "stream",
     "text": [
      "Это прямоугольный треугольник\n"
     ]
    }
   ],
   "source": [
    "# 20\n",
    "a = int(input(\"Enter a first number: \"))\n",
    "b = int(input(\"Enter a second number: \"))\n",
    "c = int(input(\"Enter a third number: \"))\n",
    "k = c**2 == a**2 + b**2 \n",
    "if k == True :\n",
    "    print(\"Это прямоугольный треугольник\")\n",
    "else:\n",
    "    print(\"Это не прямоугольный треугольник\")\n",
    "\n"
   ]
  }
 ],
 "metadata": {
  "kernelspec": {
   "display_name": "Python 3",
   "language": "python",
   "name": "python3"
  },
  "language_info": {
   "codemirror_mode": {
    "name": "ipython",
    "version": 3
   },
   "file_extension": ".py",
   "mimetype": "text/x-python",
   "name": "python",
   "nbconvert_exporter": "python",
   "pygments_lexer": "ipython3",
   "version": "3.14.0"
  }
 },
 "nbformat": 4,
 "nbformat_minor": 5
}
